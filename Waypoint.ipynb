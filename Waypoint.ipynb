{
 "cells": [
  {
   "cell_type": "code",
   "execution_count": 0,
   "metadata": {
    "collapsed": false
   },
   "outputs": [
   ],
   "source": [
   ]
  },
  {
   "cell_type": "code",
   "execution_count": 2,
   "metadata": {
    "collapsed": false
   },
   "outputs": [
    {
     "name": "stdout",
     "output_type": "stream",
     "text": [
      "                                  waypoint 1  \\\n",
      "0   [18.259251311806274, -66.08948999422394]   \n",
      "1     [18.3055369068776, -66.09495352399853]   \n",
      "2   [18.344985786919807, -66.12103620092186]   \n",
      "3    [18.36977776802263, -66.16257904858679]   \n",
      "4   [18.374995615998742, -66.21134706135042]   \n",
      "5    [18.359604170488176, -66.2576654637138]   \n",
      "6    [18.32665666116626, -66.29234777648921]   \n",
      "7    [18.28268636767381, -66.30852479504469]   \n",
      "8    [18.236406865907522, -66.3030050373753]   \n",
      "9   [18.196982657189288, -66.27689733657648]   \n",
      "10    [18.17221534746747, -66.2353795126554]   \n",
      "11  [18.167003592828046, -66.18666772797681]   \n",
      "12  [18.182377965197393, -66.14039441698382]   \n",
      "13  [18.215298091383918, -66.10571210410285]   \n",
      "14  [18.259251311806274, -66.08948999422394]   \n",
      "\n",
      "                                  waypoint 2  \\\n",
      "0    [18.27087378218598, -65.97858405961318]   \n",
      "1   [18.361710760166982, -66.00030794078307]   \n",
      "2   [18.434590900823654, -66.06144278523006]   \n",
      "3     [18.4750496557258, -66.14989486926014]   \n",
      "4     [18.4750496557258, -66.24810513073984]   \n",
      "5   [18.434590900823654, -66.33655721476993]   \n",
      "6   [18.361710760166982, -66.39769205921692]   \n",
      "7    [18.27087378218598, -66.41941594038681]   \n",
      "8   [18.180084326042916, -66.39748421894912]   \n",
      "9   [18.107310966758764, -66.33629804041321]   \n",
      "10   [18.06693784464067, -66.24798978666405]   \n",
      "11   [18.06693784464067, -66.15001021333595]   \n",
      "12  [18.107310966758764, -66.06170195958677]   \n",
      "13  [18.180084326042916, -66.00051578105086]   \n",
      "14   [18.27087378218598, -65.97858405961318]   \n",
      "\n",
      "                                  waypoint 3  \\\n",
      "0     [18.28268636767381, -66.0894752049553]   \n",
      "1    [18.32665666116626, -66.10565222351079]   \n",
      "2   [18.359604170488176, -66.14033453628618]   \n",
      "3   [18.374995615998742, -66.18665293864957]   \n",
      "4    [18.36977776802263, -66.23542095141319]   \n",
      "5   [18.344985786919807, -66.27696379907812]   \n",
      "6     [18.3055369068776, -66.30304647600147]   \n",
      "7   [18.259251311806274, -66.30851000577606]   \n",
      "8   [18.215298091383918, -66.29228789589713]   \n",
      "9   [18.182377965197393, -66.25760558301617]   \n",
      "10  [18.167003592828046, -66.21133227202317]   \n",
      "11    [18.17221534746747, -66.1626204873446]   \n",
      "12  [18.196982657189288, -66.12110266342351]   \n",
      "13  [18.236406865907522, -66.09499496262468]   \n",
      "14    [18.28268636767381, -66.0894752049553]   \n",
      "\n",
      "                               waypoint 4  \n",
      "0   [18.2710000000000, -66.1990000000000]  \n",
      "1   [18.2710000000000, -66.1990000000000]  \n",
      "2   [18.2710000000000, -66.1990000000000]  \n",
      "3   [18.2710000000000, -66.1990000000000]  \n",
      "4   [18.2710000000000, -66.1990000000000]  \n",
      "5   [18.2710000000000, -66.1990000000000]  \n",
      "6   [18.2710000000000, -66.1990000000000]  \n",
      "7   [18.2710000000000, -66.1990000000000]  \n",
      "8   [18.2710000000000, -66.1990000000000]  \n",
      "9   [18.2710000000000, -66.1990000000000]  \n",
      "10  [18.2710000000000, -66.1990000000000]  \n",
      "11  [18.2710000000000, -66.1990000000000]  \n",
      "12  [18.2710000000000, -66.1990000000000]  \n",
      "13  [18.2710000000000, -66.1990000000000]  \n",
      "14  [18.2710000000000, -66.1990000000000]  \n"
     ]
    }
   ],
   "source": [
    "import math\n",
    "from math import *\n",
    "from numpy import *\n",
    "import pandas as pd\n",
    "import numpy as np\n",
    "\n",
    "R = 6371       # km Radius, do not change!!\n",
    "d = 23.2735    # km Distance to find waypoint 2\n",
    "d1 = 11.637    # km distance to find waypoint 2 and 3\n",
    "b1 = pi/2 + pi/28 #initial bearing\n",
    "\n",
    "#Creating waypoints and lists for looping\n",
    "waypoint_1 = [0,0]\n",
    "waypoint_2 = [0,0]\n",
    "waypoint_3 = [0,0]\n",
    "waypoint_4 = [0,0]\n",
    "\n",
    "list_waypoint_1 =[]\n",
    "list_waypoint_2 =[]\n",
    "list_waypoint_3 =[]\n",
    "list_waypoint_4 =[]\n",
    "\n",
    "#ISO Drop locations:\n",
    "ISO2 = [18.271 , -66.1990]\n",
    "# ISO1 = [18.24055, -65.74596]\n",
    "# ISO3 = [18.43874, -66.60805]\n",
    "\n",
    "# converting ISO degrees to radians:\n",
    "ISO2_lat_rad = ISO2[0] * pi / 180\n",
    "ISO2_lon_rad = ISO2[1] * pi / 180\n",
    "ISO2_rad = [ISO2_lat_rad, ISO2_lon_rad]\n",
    "\n",
    "\n",
    "\n",
    "# loop to get all waypoints on flight path\n",
    "i = 0\n",
    "while i <= 14:    # loop to iterate 14 times\n",
    "    i = i + 1\n",
    "\n",
    "    #WAYPOINT #1\n",
    "    d1 = 11.637\n",
    "    waypoint_1[0] = np.arcsin(np.sin(ISO2_rad[0]) * np.cos(d1/R) + np.cos(ISO2_rad[0]) * np.sin(d1/R) * np.cos(b1))\n",
    "    waypoint_1[1] = ISO2_rad[1] + np.arctan2(sin(b1) *  np.sin(d1/R) *  np.cos(ISO2_rad[0]),  np.cos(d1/R) - np.sin(ISO2_rad[0]) *  np.sin(waypoint_1[0]))\n",
    "    #convert back to decimal\n",
    "    waypoint_1[0] = waypoint_1[0] * 180 / pi\n",
    "    waypoint_1[1] = waypoint_1[1] * 180 / pi\n",
    "    # Append to list\n",
    "    list_waypoint_1.append([waypoint_1[0],waypoint_1[1]])\n",
    "    #Update Bearing\n",
    "    b1 = b1 - (pi/28)\n",
    "\n",
    "    # WAYPOINT #2\n",
    "    waypoint_2[0] = np.arcsin(np.sin(ISO2_rad[0]) * np.cos(d/R) + np.cos(ISO2_rad[0]) * np.sin(d/R) * np.cos(b1))\n",
    "    waypoint_2[1] = ISO2_rad[1] + np.arctan2(sin(b1) *  np.sin(d/R) *  np.cos(ISO2_rad[0]),  np.cos(d/R) - np.sin(ISO2_rad[0]) *  np.sin(waypoint_2[0]))\n",
    "    # convert back to decimal\n",
    "    waypoint_2[0] = waypoint_2[0] * 180 / pi\n",
    "    waypoint_2[1] = waypoint_2[1] * 180 / pi\n",
    "    # Append to list\n",
    "    list_waypoint_2.append([waypoint_2[0],waypoint_2[1]])\n",
    "    #Update Bearing\n",
    "    b1 = b1 - (pi/28)\n",
    "\n",
    "    #WAYPOINT #3\n",
    "    waypoint_3[0] = np.arcsin(np.sin(ISO2_rad[0]) * np.cos(d1/R) + np.cos(ISO2_rad[0]) * np.sin(d1/R) * np.cos(b1))\n",
    "    waypoint_3[1] = ISO2_rad[1] + np.arctan2(sin(b1) *  np.sin(d1/R) *  np.cos(ISO2_rad[0]),  np.cos(d1/R) - np.sin(ISO2_rad[0]) *  np.sin(waypoint_3[0]))\n",
    "    # convert back to decimal\n",
    "    waypoint_3[0] = waypoint_3[0] * 180 / pi\n",
    "    waypoint_3[1] = waypoint_3[1] * 180 / pi\n",
    "    #Append to list\n",
    "    list_waypoint_3.append([waypoint_3[0],waypoint_3[1]])\n",
    "    #Update Bearing\n",
    "    b1 = b1 - (pi/28)\n",
    "\n",
    "    #WAYPOINT #4\n",
    "    waypoint_4[0] = ISO2[0]\n",
    "    waypoint_4[1] = ISO2[1]\n",
    "    list_waypoint_4.append([waypoint_4[0],waypoint_4[1]])\n",
    "\n",
    "    #Update Bearing\n",
    "    b1 = b1 - (pi/28)\n",
    "#end loop\n",
    "\n",
    "#Add lists to dataframe\n",
    "mission_list = pd.DataFrame(columns =['waypoint 1', 'waypoint 2', 'waypoint 3', 'waypoint 4'])\n",
    "mission_list['waypoint 1'] = list_waypoint_1\n",
    "mission_list['waypoint 2'] = list_waypoint_2\n",
    "mission_list['waypoint 3'] = list_waypoint_3\n",
    "mission_list['waypoint 4'] = list_waypoint_4\n",
    "\n",
    "print mission_list"
   ]
  },
  {
   "cell_type": "code",
   "execution_count": 0,
   "metadata": {
    "collapsed": false
   },
   "outputs": [
   ],
   "source": [
   ]
  },
  {
   "cell_type": "code",
   "execution_count": 0,
   "metadata": {
    "collapsed": false
   },
   "outputs": [
   ],
   "source": [
   ]
  },
  {
   "cell_type": "code",
   "execution_count": 0,
   "metadata": {
    "collapsed": false
   },
   "outputs": [
   ],
   "source": [
   ]
  },
  {
   "cell_type": "code",
   "execution_count": 0,
   "metadata": {
    "collapsed": false
   },
   "outputs": [
   ],
   "source": [
   ]
  },
  {
   "cell_type": "code",
   "execution_count": 0,
   "metadata": {
    "collapsed": false
   },
   "outputs": [
   ],
   "source": [
   ]
  }
 ],
 "metadata": {
  "kernelspec": {
   "display_name": "SageMath (stable)",
   "language": "sagemath",
   "metadata": {
    "cocalc": {
     "description": "Open-source mathematical software system",
     "priority": 10,
     "url": "https://www.sagemath.org/"
    }
   },
   "name": "sagemath"
  },
  "language_info": {
   "codemirror_mode": {
    "name": "ipython",
    "version": 2
   },
   "file_extension": ".py",
   "mimetype": "text/x-python",
   "name": "python",
   "nbconvert_exporter": "python",
   "pygments_lexer": "ipython2",
   "version": "2.7.15"
  }
 },
 "nbformat": 4,
 "nbformat_minor": 0
}